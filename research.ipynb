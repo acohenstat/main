{
  "cells": [
    {
      "cell_type": "raw",
      "metadata": {},
      "source": [
        "---\n",
        "title: \"Research\"\n",
        "subtitle: \"~In God we trust; all others bring data (W. E. Deming)\"\n",
        "description: |\n",
        "  Highlights of some favorite research and projects\n",
        "listing:\n",
        "  id: idresearch\n",
        "  contents: research\n",
        "  feed: true\n",
        "  sort: \"date desc\"\n",
        "  type: grid\n",
        "  grid-item-border: true\n",
        "  grid-item-align: left\n",
        "  max-description-length: 200\n",
        "  date-format: medium\n",
        "  categories: numbered\n",
        "  sort-ui: false\n",
        "  filter-ui: false\n",
        "page-layout: full\n",
        "title-block-banner: false\n",
        "bibliography: data/workcohen.bib\n",
        "cls: data/apa-6th-edition.csl\n",
        "nocite: |\n",
        "  @*\n",
        "---"
      ],
      "id": "b3f6a66e"
    },
    {
      "cell_type": "markdown",
      "metadata": {},
      "source": [
        "::: {#idresearch}\n",
        ":::\n",
        "\n",
        "## Publications \n",
        "\n",
        "\n",
        "```{quarto, setup}\n",
        "function renderReferences() {\n",
        "  let refList = [];\n",
        "  for (const citation of quarto.doc.bibliography.citations) {\n",
        "    let ref = quarto.doc.bibliography.referenceForCitation(citation);\n",
        "    refList.push(ref);\n",
        "  }\n",
        "  refList.sort((a, b) => a.citationIndex - b.citationIndex);\n",
        "  let output = \"<ol>\";\n",
        "  for (const ref of refList) {\n",
        "    output += `<li id=\"${ref.citationId}\">${ref.author}. <em>${ref.title}</em>. ${ref.year}.</li>`;\n",
        "  }\n",
        "  output += \"</ol>\";\n",
        "  return output;\n",
        "}\n",
        "```\n",
        "\n",
        "```{quarto}\n",
        "References\n",
        "----------\n",
        "\n",
        "`r renderReferences()`\n",
        "```\n",
        "\n",
        "\n",
        "::: {#refs}\n",
        ":::"
      ],
      "id": "292a97e7"
    }
  ],
  "metadata": {
    "kernelspec": {
      "display_name": "Python 3",
      "language": "python",
      "name": "python3"
    }
  },
  "nbformat": 4,
  "nbformat_minor": 5
}